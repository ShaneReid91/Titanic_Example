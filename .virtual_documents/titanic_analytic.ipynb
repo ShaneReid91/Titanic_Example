








import pandas as pd
import re
import numpy as np
import seaborn as sns
import plotly.express as px


### Load the dataset and set the passanger index as the dataframe index
dataset = pd.read_csv("titanic\\train.csv", index_col ="PassengerId")


dataset.head(4)


dataset.keys()





import pandas as pd
import matplotlib.pyplot as plt





dataset.isna().sum()














# Example dataset snippet
df = dataset.groupby(['Sex', 'Survived']).size().reset_index(name='count')

# Plot using Plotly Express
fig = px.bar(df, x='Sex', y='count', color='Survived', barmode='group',
             title='Number of Survivors by Sex')

fig.show()





dataset.groupby(['Sex', 'Survived']).size().unstack().plot(kind='bar', stacked=False)
plt.xlabel('Sex')
plt.ylabel('Number of Passengers')
plt.title('Number of Survivors by Sex')
plt.legend(['Did not survive', 'Survived'])
plt.show()











dataset.groupby(['Pclass', 'Survived']).size().unstack().plot(kind='bar', stacked=False)
plt.xlabel('Class')
plt.ylabel('Number of Passengers')
plt.title('Number of Survivors by class')
plt.legend(['Did not survive', 'Survived'])
plt.show()








dataset.groupby(['SibSp', 'Survived']).size().unstack().plot(kind='bar', stacked=False)
plt.xlabel('Number Of family members (Siblings or Spouse) also on board')
plt.ylabel('Number of Passengers')
plt.title('Number of Survivors by number Of family members on board')
plt.legend(['Did not survive', 'Survived'])
plt.show()














dataset.groupby(['Embarked', 'Survived']).size().unstack().plot(kind='bar', stacked=False)
plt.xlabel('Class')
plt.ylabel('Number of Passengers')
plt.title('Number of Survivors by class')
plt.legend(['Did not survive', 'Survived'])
plt.show()








dataset['Pclass'] = dataset['Pclass'].map({1: 'First', 2: 'Second', 3: "Third"})
dataset['Survived'] = dataset['Survived'].map({0: 'Not Survived', 1: 'Survived'})


color_map = {'First': 'green', 'Second': 'orange', 'Third': 'red'}
# Create an interactive scatter plot with Plotly
fig = px.scatter(
    dataset,
    x='Age',
    y='Fare',
    color='Pclass',
    color_discrete_map=color_map,
    symbol='Survived',
    symbol_map={'Not Survived': 'x', 'Survived': 'triangle-up'},
    log_y=True,
    title='Age vs. Fare with Gender as color and Survival as marker (Logarithmic Fare scale)',
    labels={'Age': 'Age', 'Fare': 'Fare'},
    hover_data=['Name', 'Pclass', 'Embarked'],
    facet_row='Sex',
#    facet_row = 'SibSp',
    width=3000,
    height=1500
)


# Show the plot
fig.show()












dataset.head(8)




















average_cabins = {'First': 'B30',
                  'Second': 'E60',
                  'Third': 'F81'}


dataset['Cabin'] = dataset.apply(lambda row: average_cabins[row['Pclass']] if pd.isna(row['Cabin']) else row['Cabin'], axis=1)





def extract_cabin_clean(cabin):
    if pd.isna(cabin):
        return cabin
    match = re.search(r'\b[A-Z]?\d+\b', cabin)
    return match.group(0) if match else cabin


dataset['Cabin'] = dataset['Cabin'].apply(extract_cabin_clean)





## we can see that the cabin id consists of a prefix and a 
dataset['Deck'] = dataset['Cabin'].apply(lambda x: x[0] if pd.notna(x) else pd.NA)


dataset.groupby(['Deck', 'Survived']).size().unstack().plot(kind='bar', stacked=False)
plt.xlabel('Deck')
plt.ylabel('Number of Passengers')
plt.title('Number of Survivors by class')
plt.legend(['Did not survive', 'Survived'])
plt.show()








def extract_cabin_number(cabin):
    if pd.notna(cabin):
        parts = cabin.split()
        if len(parts) > 0 and len(parts[0]) > 1:
            return int(parts[0][1:])
    return 60


dataset['Cabin_Number'] = dataset['Cabin'].apply(extract_cabin_number)


dataset.head(5)





dataset['Name'].head(10)





# Define a function to extract titles
def extract_title(name):
    match = re.search(r'(Mrs\.|Miss|Mr\.|Dr\.|Master\.|Ms\.|Sir\.|Rev\.|Capt\.|Col\.|Major\.|Mlle\.|Jonkheer\.|Lady\.|Don\.|Dona\.|Countess\.|Mme\.)', name)
    return match.group(0) if match else 'Other'


# Define a function to categorize titles
def categorize_title(title):
    if title in ['Lady.', 'Countess.', 'Mme.','Sir.', 'Jonkheer.', 'Don.', 'Dona.']:
        return 'Upper-class'
    elif title in ['Mrs.']:
        return 'Married Women'
    elif title in ['Miss', 'Mlle.', 'Ms.']:
        return 'Single Women'
    elif title in ['Mr.', 'Master.']:
        return 'Single Men'
    elif title in ['Dr.', 'Rev.','Capt.', 'Col.', 'Major.']:
        return 'Professionals'
    else:
        return 'Other'


dataset['Title_Category'] = dataset['Name'].apply(extract_title).apply(categorize_title)





dataset.groupby(['Title_Category', 'Survived']).size().unstack().plot(kind='bar', stacked=False)
plt.xlabel('Deck')
plt.ylabel('Number of Passengers')
plt.title('Number of Survivors by title category')
plt.legend(['Did not survive', 'Survived'])
plt.show()








dataset['Ticket_Count'] = dataset.groupby('Ticket')['Ticket'].transform('count')


dataset.groupby(['Ticket_Count', 'Survived']).size().unstack().plot(kind='bar', stacked=False)
plt.xlabel('Number of passangers with the same ticket number')
plt.ylabel('Number of Passengers')
plt.title('Number of Survivors by number of other passangers with the same ticket number')
plt.legend(['Did not survive', 'Survived'])
plt.show()














dataset.isna().sum()





mean_age = dataset.groupby(['Pclass', 'Sex','Title_Category'])['Age'].transform('mean').astype(int)
dataset['Age'] = dataset['Age'].fillna(mean_age)








dataset = pd.get_dummies(dataset, columns = ['Sex'])
dataset = pd.get_dummies(dataset, columns = ['Embarked'])
dataset = pd.get_dummies(dataset, columns = ['Title_Category'])


dataset['Pclass'] = dataset['Pclass'].map({'First':1,'Second':2, "Third":3})
dataset['Survived'] = dataset['Survived'].map({'Not Survived':0, 'Survived':1})





deck_encoding = {
                    'A':1,
                    'B':2,
                    'C':3,
                    'D':4,
                    'E':5,
                    'F':6,
                    'G':7,
                    'T':8
                    }
dataset['Deck'] = dataset['Deck'].map(deck_encoding)





dataset = dataset.drop(columns=['Name','Ticket','Cabin'])


dataset.head()






import pandas as pd
from sklearn.model_selection import cross_val_score, StratifiedKFold
from sklearn.metrics import accuracy_score, precision_score, recall_score, make_scorer
import xgboost as xgb



# Assuming df is your DataFrame
# Features and target variable
X = dataset.drop(columns=['Survived'])
y = dataset['Survived']


# Initialize XGBoost classifier
model = xgb.XGBClassifier()


# Define scoring metrics
scoring = {
'accuracy': make_scorer(accuracy_score),
'precision': make_scorer(precision_score),
'recall': make_scorer(recall_score)
}

# Perform cross-validation
cv = StratifiedKFold(n_splits=5)
accuracy = cross_val_score(model, X, y, cv=cv, scoring='accuracy')
precision = cross_val_score(model, X, y, cv=cv, scoring='precision')
recall = cross_val_score(model, X, y, cv=cv, scoring='recall')

print(f"Accuracy: {accuracy.mean()}")
print(f"Precision: {precision.mean()}")
print(f"Recall: {recall.mean()}")






import pandas as pd
import xgboost as xgb
import matplotlib.pyplot as plt

# Assuming df is your DataFrame
# Features and target variable
X = dataset.drop(columns=['Survived'])
y = dataset['Survived']

# Initialize and fit the XGBoost classifier
model = xgb.XGBClassifier()
model.fit(X, y)

# Get feature importance
importance = model.feature_importances_

# Create a DataFrame for feature importance
feature_importance_df = pd.DataFrame({
    'Feature': X.columns,
    'Importance': importance
})

# Sort the DataFrame by importance
feature_importance_df = feature_importance_df.sort_values(by='Importance', ascending=False)

# Plot feature importance
plt.figure(figsize=(10, 6))
plt.barh(feature_importance_df['Feature'], feature_importance_df['Importance'])
plt.xlabel('Importance')
plt.ylabel('Feature')
plt.title('Feature Importance')
plt.gca().invert_yaxis()
plt.show()

print(feature_importance_df)









def prepare_dataset(dataset):
    ### Define the average cabins 
    average_cabins = {1: 'B30',2: 'E60', 3: 'F81'}
    
    ### Clean cabin data
    dataset['Cabin'] = dataset.apply(lambda row: average_cabins[row['Pclass']] if pd.isna(row['Cabin']) else row['Cabin'], axis=1)
    dataset['Cabin'] = dataset['Cabin'].apply(extract_cabin_clean)
    
    ### Get the Deck and cabin number
    dataset['Deck'] = dataset['Cabin'].apply(lambda x: x[0] if pd.notna(x) else pd.NA)
    dataset['Cabin_Number'] = dataset['Cabin'].apply(extract_cabin_number)

    
    ## Extract the title category
    dataset['Title_Category'] = dataset['Name'].apply(extract_title).apply(categorize_title)
    
    dataset['Ticket_Count'] = dataset.groupby('Ticket')['Ticket'].transform('count')

    mean_age = dataset.groupby(['Pclass', 'Sex','Title_Category'])['Age'].transform('mean').astype(int)
    dataset['Age'] = dataset['Age'].fillna(mean_age)
    
    
    ### One hot encode catagorical data
    dataset = pd.get_dummies(dataset, columns = ['Sex'])
    dataset = pd.get_dummies(dataset, columns = ['Embarked'])
    dataset = pd.get_dummies(dataset, columns = ['Title_Category'])
    
    ### Encode the deck
    deck_encoding = {'A':1,'B':2,'C':3,'D':4,'E':5,'F':6,'G':7,'T':8}
    dataset['Deck'] = dataset['Deck'].map(deck_encoding)
    
    #dataset = dataset.drop(columns=['Name','Ticket','Cabin'])

    return dataset





train_dataset =  pd.read_csv("titanic\\train.csv", index_col ="PassengerId")
test_dataset =  pd.read_csv("titanic\\test.csv", index_col ="PassengerId")


train_dataset = prepare_dataset(train_dataset)
test_dataset = prepare_dataset(test_dataset)



test_dataset






